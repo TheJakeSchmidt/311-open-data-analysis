{
 "cells": [
  {
   "cell_type": "code",
   "execution_count": null,
   "metadata": {},
   "outputs": [],
   "source": [
    "heating_data = pd.read_csv('heating.csv')\n",
    "\n",
    "raw_resolutions = sorted(list(heating_data['Resolution Description'].dropna().drop_duplicates()),\n",
    "                         key=lambda s: len(s), reverse=True)\n",
    "canonical_resolutions = {}\n",
    "for resolution in raw_resolutions:\n",
    "    found = False\n",
    "    for known_resolution in canonical_resolutions.values():\n",
    "        if known_resolution.startswith(resolution):\n",
    "            canonical_resolutions[resolution] = known_resolution\n",
    "            found = True\n",
    "    if not found:\n",
    "        canonical_resolutions[resolution] = resolution\n",
    "heating_data['Calculated Resolution'] = \\\n",
    "    heating_data['Resolution Description']\\\n",
    "    .apply(lambda desc: 'None' if pd.isnull(desc) else canonical_resolutions[desc])\n",
    "heating_data.groupby('Calculated Resolution').size().to_csv('out/heating_by_resolution.csv')"
   ]
  }
 ],
 "metadata": {
  "kernelspec": {
   "display_name": "Python 2",
   "language": "python",
   "name": "python2"
  },
  "language_info": {
   "codemirror_mode": {
    "name": "ipython",
    "version": 2
   },
   "file_extension": ".py",
   "mimetype": "text/x-python",
   "name": "python",
   "nbconvert_exporter": "python",
   "pygments_lexer": "ipython2",
   "version": "2.7.15rc1"
  }
 },
 "nbformat": 4,
 "nbformat_minor": 2
}
